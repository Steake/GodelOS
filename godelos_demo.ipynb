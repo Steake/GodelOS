{
 "cells": [
  {
   "cell_type": "markdown",
   "id": "1297eca9",
   "metadata": {},
   "source": [
    "# GödelOS Demonstration Notebook\n",
    "\n",
    "This notebook demonstrates the advanced capabilities of the GödelOS system, focusing on its intelligent test runner, automated statistics collection, and insightful graphical outputs.\n",
    "\n",
    "GödelOS is a modular, AI-powered operating system for knowledge, reasoning, and metacognition research. Here, we showcase its:\n",
    "- Automated test discovery and execution\n",
    "- Rich statistics collection (pass/fail rates, timing, trends)\n",
    "- Visual analytics for rapid insight\n",
    "\n",
    "Let's get started!"
   ]
  },
  {
   "cell_type": "markdown",
   "id": "05c64bf0",
   "metadata": {},
   "source": [
    "## Setup\n",
    "\n",
    "Ensure the following Python packages are installed in your environment:\n",
    "- `matplotlib`\n",
    "- `seaborn`\n",
    "- `pandas`\n",
    "\n",
    "If running for the first time, you can install them using:\n",
    "```python\n",
    "!pip install matplotlib seaborn pandas\n",
    "```\n",
    "\n",
    "Also ensure GödelOS is installed and available in your Python path."
   ]
  },
  {
   "cell_type": "code",
   "execution_count": null,
   "id": "d9d2996f",
   "metadata": {},
   "outputs": [],
   "source": [
    "# Import core libraries\n",
    "!source godel_venv/bin/activate\n",
    "!pip3.13 install -r \"requirements.txt\"\n",
    "import matplotlib.pyplot as plt\n",
    "import seaborn as sns\n",
    "import pandas as pd\n",
    "from godelOS.test_runner.test_runner import TestRunner\n",
    "from godelOS.test_runner.statistics_collector import TestStatistics\n",
    "\n",
    "# Set up plotting aesthetics\n",
    "sns.set_theme(style=\"whitegrid\")"
   ]
  },
  {
   "cell_type": "markdown",
   "id": "57a34bb8",
   "metadata": {},
   "source": [
    "## Run GödelOS Test Suite\n",
    "\n",
    "We instantiate the test runner, discover, and execute all available tests in the project."
   ]
  },
  {
   "cell_type": "code",
   "execution_count": null,
   "id": "4ff6638a",
   "metadata": {},
   "outputs": [],
   "source": [
    "# Initialize TestRunner (uses default config)\n",
    "runner = TestRunner()\n",
    "\n",
    "# Discover and categorize tests\n",
    "runner.discover_tests()\n",
    "runner.categorize_tests()\n",
    "\n",
    "# Run all tests\n",
    "runner.run_tests()"
   ]
  },
  {
   "cell_type": "markdown",
   "id": "643e7dc2",
   "metadata": {},
   "source": [
    "## Collect and Display Test Statistics"
   ]
  },
  {
   "cell_type": "code",
   "execution_count": null,
   "id": "19f48449",
   "metadata": {},
   "outputs": [],
   "source": [
    "# Get statistics from the run\n",
    "stats: TestStatistics = runner.statistics_collector.calculate_statistics()\n",
    "\n",
    "# Display basic statistics\n",
    "print(f\"Total tests: {stats.total}\")\n",
    "print(f\"Passed: {stats.passed}\")\n",
    "print(f\"Failed: {stats.failed}\")\n",
    "print(f\"Skipped: {stats.skipped}\")\n",
    "print(f\"Errors: {stats.error}\")\n",
    "print(f\"Pass rate: {stats.pass_rate:.2%}\")"
   ]
  },
  {
   "cell_type": "markdown",
   "id": "fcb3de1f",
   "metadata": {},
   "source": [
    "## Visualize Test Outcomes\n",
    "\n",
    "Let's visualize the distribution of test outcomes for a quick overview."
   ]
  },
  {
   "cell_type": "code",
   "execution_count": null,
   "id": "2225b7ab",
   "metadata": {},
   "outputs": [],
   "source": [
    "# Pie chart of test outcomes\n",
    "labels = ['Passed', 'Failed', 'Skipped', 'Error']\n",
    "sizes = [stats.passed, stats.failed, stats.skipped, stats.error]\n",
    "colors = sns.color_palette('pastel')[0:4]\n",
    "\n",
    "plt.figure(figsize=(6,6))\n",
    "plt.pie(sizes, labels=labels, colors=colors, autopct='%1.1f%%', startangle=140)\n",
    "plt.title('GödelOS Test Outcomes')\n",
    "plt.show()"
   ]
  },
  {
   "cell_type": "markdown",
   "id": "ed0f2862",
   "metadata": {},
   "source": [
    "## Timing Analysis\n",
    "\n",
    "Examine durations of tests to identify performance bottlenecks and outliers."
   ]
  },
  {
   "cell_type": "code",
   "execution_count": null,
   "id": "03d80862",
   "metadata": {},
   "outputs": [],
   "source": [
    "# Histogram of test durations\n",
    "durations = [d for _, d in getattr(stats, 'slowest_tests', [])]\n",
    "if not durations:\n",
    "    # Fallback: use all durations if slowest_tests is empty\n",
    "    durations = []\n",
    "    for cat, tests in runner.results_collector.get_all_results().items():\n",
    "        for r in tests.values():\n",
    "            if hasattr(r, 'duration') and r.duration is not None:\n",
    "                durations.append(r.duration)\n",
    "\n",
    "if durations:\n",
    "    plt.figure(figsize=(8,4))\n",
    "    sns.histplot(durations, bins=20, kde=True, color='skyblue')\n",
    "    plt.xlabel('Test Duration (s)')\n",
    "    plt.ylabel('Number of Tests')\n",
    "    plt.title('Distribution of Test Durations')\n",
    "    plt.show()\n",
    "else:\n",
    "    print('No timing data available.')"
   ]
  },
  {
   "cell_type": "markdown",
   "id": "c5a72c04",
   "metadata": {},
   "source": [
    "## Slowest Tests\n",
    "\n",
    "Highlight the slowest tests for targeted optimization."
   ]
  },
  {
   "cell_type": "code",
   "execution_count": null,
   "id": "b6deefe0",
   "metadata": {},
   "outputs": [],
   "source": [
    "# Bar chart of slowest tests\n",
    "slow_tests = getattr(stats, 'slowest_tests', [])\n",
    "if slow_tests:\n",
    "    df = pd.DataFrame(slow_tests, columns=['Test', 'Duration (s)'])\n",
    "    plt.figure(figsize=(10, 5))\n",
    "    sns.barplot(y='Test', x='Duration (s)', data=df.sort_values('Duration (s)', ascending=False), palette='flare')\n",
    "    plt.title('Top Slowest Tests')\n",
    "    plt.xlabel('Duration (s)')\n",
    "    plt.ylabel('Test Name')\n",
    "    plt.tight_layout()\n",
    "    plt.show()\n",
    "else:\n",
    "    print('No slowest test data available.')"
   ]
  },
  {
   "cell_type": "markdown",
   "id": "7cf01e74",
   "metadata": {},
   "source": [
    "## Most Failing Tests\n",
    "\n",
    "Identify tests that fail most frequently to guide debugging efforts."
   ]
  },
  {
   "cell_type": "code",
   "execution_count": null,
   "id": "e1c72312",
   "metadata": {},
   "outputs": [],
   "source": [
    "fail_tests = getattr(stats, 'most_failing_tests', [])\n",
    "if fail_tests:\n",
    "    df = pd.DataFrame(fail_tests, columns=['Test', 'Failure Count'])\n",
    "    plt.figure(figsize=(10, 5))\n",
    "    sns.barplot(y='Test', x='Failure Count', data=df.sort_values('Failure Count', ascending=False), palette='rocket')\n",
    "    plt.title('Most Failing Tests')\n",
    "    plt.xlabel('Failure Count')\n",
    "    plt.ylabel('Test Name')\n",
    "    plt.tight_layout()\n",
    "    plt.show()\n",
    "else:\n",
    "    print('No failing test data available.')"
   ]
  },
  {
   "cell_type": "markdown",
   "id": "8669cd5d",
   "metadata": {},
   "source": [
    "## Category-wise Test Statistics\n",
    "\n",
    "Analyze pass/fail rates by test category for deeper insight."
   ]
  },
  {
   "cell_type": "code",
   "execution_count": null,
   "id": "e40a0fcc",
   "metadata": {},
   "outputs": [],
   "source": [
    "cat_stats = getattr(stats, 'category_stats', {})\n",
    "if cat_stats:\n",
    "    df = pd.DataFrame([\n",
    "        {'Category': cat, 'Total': s.total, 'Passed': s.passed, 'Failed': s.failed, 'Skipped': s.skipped}\n",
    "        for cat, s in cat_stats.items()\n",
    "    ])\n",
    "    df = df.set_index('Category')\n",
    "    df[['Passed', 'Failed', 'Skipped']].plot(kind='bar', stacked=True, figsize=(10,6), colormap='tab20')\n",
    "    plt.title('Test Outcomes by Category')\n",
    "    plt.ylabel('Number of Tests')\n",
    "    plt.xlabel('Category')\n",
    "    plt.tight_layout()\n",
    "    plt.show()\n",
    "else:\n",
    "    print('No category statistics available.')"
   ]
  },
  {
   "cell_type": "markdown",
   "id": "2e2206e6",
   "metadata": {},
   "source": [
    "## Conclusion\n",
    "\n",
    "This notebook has demonstrated the automation and insight provided by GödelOS's test runner and analytics modules. With programmatic access to test statistics and rich visualizations, GödelOS enables rapid, data-driven development and debugging."
   ]
  }
 ],
 "metadata": {
  "kernelspec": {
   "display_name": "Python 3 (ipykernel)",
   "language": "python",
   "name": "python3"
  },
  "language_info": {
   "codemirror_mode": {
    "name": "ipython",
    "version": 3
   },
   "file_extension": ".py",
   "mimetype": "text/x-python",
   "name": "python",
   "nbconvert_exporter": "python",
   "pygments_lexer": "ipython3",
   "version": "3.12.2"
  }
 },
 "nbformat": 4,
 "nbformat_minor": 5
}
